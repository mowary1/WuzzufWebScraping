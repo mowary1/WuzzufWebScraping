{
 "cells": [
  {
   "cell_type": "code",
   "execution_count": 93,
   "id": "f0abd8b7",
   "metadata": {},
   "outputs": [],
   "source": [
    "from bs4 import BeautifulSoup as bs "
   ]
  },
  {
   "cell_type": "code",
   "execution_count": 94,
   "id": "0401e390",
   "metadata": {},
   "outputs": [],
   "source": [
    "from urllib.request import urlopen "
   ]
  },
  {
   "cell_type": "code",
   "execution_count": 95,
   "id": "9605fd75",
   "metadata": {},
   "outputs": [],
   "source": [
    "url = 'https://wuzzuf.net/search/jobs/?q=data+analyst+&a=hpb'"
   ]
  },
  {
   "cell_type": "code",
   "execution_count": 96,
   "id": "3a7faa20",
   "metadata": {},
   "outputs": [],
   "source": [
    "client= urlopen(url)"
   ]
  },
  {
   "cell_type": "code",
   "execution_count": 97,
   "id": "adad31e2",
   "metadata": {},
   "outputs": [],
   "source": [
    "html = client.read()"
   ]
  },
  {
   "cell_type": "code",
   "execution_count": 98,
   "id": "fe445169",
   "metadata": {},
   "outputs": [],
   "source": [
    "client.close()"
   ]
  },
  {
   "cell_type": "code",
   "execution_count": 99,
   "id": "27a8fdb3",
   "metadata": {},
   "outputs": [],
   "source": [
    "soup = bs(html ,\"html.parser\")"
   ]
  },
  {
   "cell_type": "code",
   "execution_count": 100,
   "id": "e6cc5131",
   "metadata": {},
   "outputs": [],
   "source": [
    "containers = soup.find_all(\"div\", {\"class\":\"css-1gatmva e1v1l3u10\"})"
   ]
  },
  {
   "cell_type": "code",
   "execution_count": 101,
   "id": "84916eb0",
   "metadata": {},
   "outputs": [
    {
     "data": {
      "text/plain": [
       "15"
      ]
     },
     "execution_count": 101,
     "metadata": {},
     "output_type": "execute_result"
    }
   ],
   "source": [
    "len(containers)"
   ]
  },
  {
   "cell_type": "code",
   "execution_count": 102,
   "id": "4cb23ac4",
   "metadata": {},
   "outputs": [
    {
     "data": {
      "text/plain": [
       "'<div class=\"css-1gatmva e1v1l3u10\">\\n <style data-emotion=\"css pkv5jc\">\\n  .css-pkv5jc{position:relative;min-height:60px;}\\n </style>\\n <div class=\"css-pkv5jc\">\\n  <a href=\"https://wuzzuf.net/jobs/careers/ITCan-Egypt-27905\" rel=\"noreferrer\" target=\"_blank\">\\n   <style data-emotion=\"css 17095x3\">\\n    .css-17095x3{position:absolute;right:0;top:0;width:60px;height:60px;object-fit:contain;object-position:center center;}\\n   </style>\\n  </a>\\n  <style data-emotion=\"css laomuu\">\\n   .css-laomuu{padding-right:60px;}\\n  </style>\\n  <div class=\"css-laomuu\">\\n   <style data-emotion=\"css m604qf\">\\n    .css-m604qf{font-size:16px;font-weight:600;font-style:normal;letter-spacing:-0.4px;line-height:24px;color:#0055D9;margin:0;}\\n   </style>\\n   <h2 class=\"css-m604qf\">\\n    <style data-emotion=\"css o171kl\">\\n     .css-o171kl{-webkit-text-decoration:none;text-decoration:none;color:inherit;}\\n    </style>\\n    <a class=\"css-o171kl\" href=\"/jobs/p/EZmEWekI7EEL-Data-Analyst-ITCan-Cairo-Egypt?o=1&amp;l=sp&amp;t=sj&amp;a=data analyst |search-v3|hpb\" rel=\"noreferrer\" target=\"_blank\">\\n     Data Analyst\\n    </a>\\n   </h2>\\n   <style data-emotion=\"css d7j1kk\">\\n    .css-d7j1kk{margin-bottom:8px;overflow:hidden;text-overflow:ellipsis;}\\n   </style>\\n   <div class=\"css-d7j1kk\">\\n    <style data-emotion=\"css 17s97q8\">\\n     .css-17s97q8{font-size:12px;font-weight:600;font-style:normal;letter-spacing:-0.27px;line-height:19px;color:#001433;-webkit-text-decoration:none;text-decoration:none;}\\n    </style>\\n    <a class=\"css-17s97q8\" href=\"https://wuzzuf.net/jobs/careers/ITCan-Egypt-27905\" rel=\"noreferrer\" target=\"_blank\">\\n     ITCan -\\n    </a>\\n    <style data-emotion=\"css 5wys0k\">\\n     .css-5wys0k{font-size:12px;font-weight:600;font-style:normal;letter-spacing:-0.27px;line-height:19px;color:#4D6182;}\\n    </style>\\n    <span class=\"css-5wys0k\">\\n     Rehab City,\\n     <!-- -->\\n     Cairo,\\n     <!-- -->\\n     Egypt\\n    </span>\\n    <style data-emotion=\"css 4c4ojb\">\\n     .css-4c4ojb{font-size:12px;font-weight:400;font-style:normal;letter-spacing:-0.27px;line-height:19px;color:#2C9266;}\\n    </style>\\n    <div class=\"css-4c4ojb\">\\n     1 day\\n     <!-- -->\\n     ago\\n    </div>\\n   </div>\\n  </div>\\n  <style data-emotion=\"css y4udm8\">\\n   .css-y4udm8{font-size:13px;font-weight:600;font-style:normal;letter-spacing:-0.3px;line-height:20px;color:#4D6182;}\\n  </style>\\n  <div class=\"css-y4udm8\">\\n   <style data-emotion=\"css 1lh32fc\">\\n    .css-1lh32fc{display:-webkit-box;display:-webkit-flex;display:-ms-flexbox;display:flex;margin-bottom:8px;-webkit-align-items:center;-webkit-box-align:center;-ms-flex-align:center;align-items:center;-webkit-box-flex-wrap:wrap;-webkit-flex-wrap:wrap;-ms-flex-wrap:wrap;flex-wrap:wrap;}\\n   </style>\\n   <div class=\"css-1lh32fc\">\\n    <style data-emotion=\"css n2jc4m\">\\n     .css-n2jc4m{display:-webkit-inline-box;display:-webkit-inline-flex;display:-ms-inline-flexbox;display:inline-flex;-webkit-align-items:center;-webkit-box-align:center;-ms-flex-align:center;align-items:center;-webkit-text-decoration:none;text-decoration:none;color:inherit;margin-bottom:4px;}\\n    </style>\\n    <a class=\"css-n2jc4m\" href=\"/a/Full-Time-Jobs-in-Egypt\">\\n     <style data-emotion=\"css adtuo7\">\\n      .css-adtuo7{cursor:pointer;padding:0 4px;border-radius:4px;}\\n     </style>\\n     <style data-emotion=\"css 1ve4b75\">\\n      .css-1ve4b75{font-size:12px;font-weight:600;display:-webkit-inline-box;display:-webkit-inline-flex;display:-ms-inline-flexbox;display:inline-flex;-webkit-align-items:center;-webkit-box-align:center;-ms-flex-align:center;align-items:center;min-height:20px;margin-right:4px;border-radius:2px;max-width:196px;white-space:nowrap;overflow:hidden;cursor:default;text-overflow:ellipsis;padding:2px 4px;background-color:#EBEDF0;color:#001433;cursor:pointer;padding:0 4px;border-radius:4px;}\\n     </style>\\n     <span class=\"css-1ve4b75 eoyjyou0\">\\n      Full Time\\n     </span>\\n    </a>\\n   </div>\\n   <div>\\n    <a class=\"css-o171kl\" href=\"/a/Experienced-Jobs-in-Egypt\">\\n     Experienced\\n    </a>\\n    <span>\\n     ·\\n     <!-- -->\\n     2 - 5 Yrs of Exp\\n    </span>\\n    <a class=\"css-o171kl\" href=\"/a/Analyst-Research-Jobs-in-Egypt\">\\n     <!-- -->\\n     ·\\n     <!-- -->\\n     Analyst/Research\\n    </a>\\n    <style data-emotion=\"css 5x9pm1\">\\n     .css-5x9pm1{-webkit-text-decoration:none;text-decoration:none;color:inherit;max-width:calc(100vw / 2 - 32px);white-space:nowrap;overflow:hidden;text-overflow:ellipsis;display:-webkit-inline-box;display:-webkit-inline-flex;display:-ms-inline-flexbox;display:inline-flex;}\\n    </style>\\n    <a class=\"css-5x9pm1\" href=\"/a/BI-Jobs-in-Egypt\">\\n     <!-- -->\\n     ·\\n     <!-- -->\\n     BI\\n    </a>\\n    <a class=\"css-5x9pm1\" href=\"/a/Analysis-Jobs-in-Egypt\">\\n     <!-- -->\\n     ·\\n     <!-- -->\\n     Analysis\\n    </a>\\n    <a class=\"css-5x9pm1\" href=\"/a/Analytical-Jobs-in-Egypt\">\\n     <!-- -->\\n     ·\\n     <!-- -->\\n     analytical\\n    </a>\\n    <a class=\"css-5x9pm1\" href=\"/a/Computer-Science-Jobs-in-Egypt\">\\n     <!-- -->\\n     ·\\n     <!-- -->\\n     Computer Science\\n    </a>\\n    <!-- -->\\n    ·\\n    <!-- -->\\n    <a class=\"css-5x9pm1\" href=\"/a/Data-Analysis-Jobs-in-Egypt\">\\n     <span>\\n      <strong class=\"highlight\">\\n       Data\\n      </strong>\\n      <span>\\n       Analysis\\n      </span>\\n     </span>\\n    </a>\\n    <a class=\"css-5x9pm1\" href=\"/a/Development-Jobs-in-Egypt\">\\n     <!-- -->\\n     ·\\n     <!-- -->\\n     Development\\n    </a>\\n    <a class=\"css-5x9pm1\" href=\"/a/Engineering-Jobs-in-Egypt\">\\n     <!-- -->\\n     ·\\n     <!-- -->\\n     Engineering\\n    </a>\\n    <a class=\"css-5x9pm1\" href=\"/a/Information-Technology-IT-Jobs-in-Egypt\">\\n     <!-- -->\\n     ·\\n     <!-- -->\\n     Information Technology (IT)\\n    </a>\\n    <a class=\"css-5x9pm1\" href=\"/a/Power-BI-Jobs-in-Egypt\">\\n     <!-- -->\\n     ·\\n     <!-- -->\\n     Power BI\\n    </a>\\n   </div>\\n  </div>\\n </div>\\n</div>\\n'"
      ]
     },
     "execution_count": 102,
     "metadata": {},
     "output_type": "execute_result"
    }
   ],
   "source": [
    "bs.prettify(containers[0])"
   ]
  },
  {
   "cell_type": "code",
   "execution_count": 103,
   "id": "8a7825bb",
   "metadata": {},
   "outputs": [
    {
     "data": {
      "text/plain": [
       "'Data Analyst'"
      ]
     },
     "execution_count": 103,
     "metadata": {},
     "output_type": "execute_result"
    }
   ],
   "source": [
    "containers[0].div.h2.text"
   ]
  },
  {
   "cell_type": "code",
   "execution_count": 104,
   "id": "49720ebe",
   "metadata": {},
   "outputs": [],
   "source": [
    "jtitle= containers[0].div.h2.text #This is not the best way to get it "
   ]
  },
  {
   "cell_type": "code",
   "execution_count": 105,
   "id": "3ac3b06d",
   "metadata": {},
   "outputs": [],
   "source": [
    "jtitle=containers[0].findAll(\"h2\",{\"class\":\"css-m604qf\"})"
   ]
  },
  {
   "cell_type": "code",
   "execution_count": 106,
   "id": "f9bf67a6",
   "metadata": {},
   "outputs": [
    {
     "data": {
      "text/plain": [
       "'Data Analyst'"
      ]
     },
     "execution_count": 106,
     "metadata": {},
     "output_type": "execute_result"
    }
   ],
   "source": [
    "jtitle[0].text"
   ]
  },
  {
   "cell_type": "code",
   "execution_count": 107,
   "id": "56b14437",
   "metadata": {},
   "outputs": [],
   "source": [
    "cname= containers[0].findAll(\"a\" ,{\"class\":\"css-17s97q8\"})"
   ]
  },
  {
   "cell_type": "code",
   "execution_count": 108,
   "id": "36a3cde5",
   "metadata": {},
   "outputs": [
    {
     "data": {
      "text/plain": [
       "'ITCan -'"
      ]
     },
     "execution_count": 108,
     "metadata": {},
     "output_type": "execute_result"
    }
   ],
   "source": [
    "cname[0].text"
   ]
  },
  {
   "cell_type": "code",
   "execution_count": 109,
   "id": "09f014e1",
   "metadata": {},
   "outputs": [],
   "source": [
    "clocation = containers[0].findAll(\"span\",{\"class\":\"css-5wys0k\"})"
   ]
  },
  {
   "cell_type": "code",
   "execution_count": 110,
   "id": "a62bc4d0",
   "metadata": {},
   "outputs": [
    {
     "data": {
      "text/plain": [
       "'Full Time'"
      ]
     },
     "execution_count": 110,
     "metadata": {},
     "output_type": "execute_result"
    }
   ],
   "source": [
    "cjobtype = containers[0].findAll(\"a\",{\"class\":\"css-n2jc4m\"})\n",
    "cjobtype[0].text"
   ]
  },
  {
   "cell_type": "code",
   "execution_count": 111,
   "id": "8ce309fb",
   "metadata": {},
   "outputs": [
    {
     "data": {
      "text/plain": [
       "'Rehab City, Cairo, Egypt '"
      ]
     },
     "execution_count": 111,
     "metadata": {},
     "output_type": "execute_result"
    }
   ],
   "source": [
    "clocation[0].text\n"
   ]
  },
  {
   "cell_type": "code",
   "execution_count": 136,
   "id": "6c95ed7e",
   "metadata": {},
   "outputs": [
    {
     "data": {
      "text/plain": [
       "44"
      ]
     },
     "execution_count": 136,
     "metadata": {},
     "output_type": "execute_result"
    }
   ],
   "source": []
  },
  {
   "cell_type": "code",
   "execution_count": 143,
   "id": "caa0f566",
   "metadata": {},
   "outputs": [],
   "source": [
    "f= open(\"D:\\Courses\\data science\\wuzzuf-dataAnalysisJobs2.csv\",\"w\")\n",
    "header=\"Job_Title, company_Name, Job_Type, Location\\n\"\n",
    "f.write(header)\n",
    "for container in containers:\n",
    "    \n",
    "    jtitle=container.findAll(\"h2\",{\"class\":\"css-m604qf\"})\n",
    "    job_title=jtitle[0].text.strip()\n",
    "    \n",
    "    cname= container.findAll(\"a\" ,{\"class\":\"css-17s97q8\"})\n",
    "    company_name=cname[0].text.strip()\n",
    "    \n",
    "    cjobtype = container.findAll(\"a\",{\"class\":\"css-n2jc4m\"})\n",
    "    company_job_type=cjobtype[0].text.strip()\n",
    "    \n",
    "    clocation =container.findAll(\"span\",{\"class\":\"css-5wys0k\"})\n",
    "    company_location = clocation[0].text.strip()\n",
    "    f.write(job_title +\",\" + company_name + \",\" + company_job_type + \",\" + company_location + \"/n\")\n"
   ]
  },
  {
   "cell_type": "code",
   "execution_count": 145,
   "id": "68975d59",
   "metadata": {},
   "outputs": [],
   "source": [
    "#Done "
   ]
  },
  {
   "cell_type": "code",
   "execution_count": null,
   "id": "9fddb047",
   "metadata": {},
   "outputs": [],
   "source": []
  }
 ],
 "metadata": {
  "kernelspec": {
   "display_name": "Python 3 (ipykernel)",
   "language": "python",
   "name": "python3"
  },
  "language_info": {
   "codemirror_mode": {
    "name": "ipython",
    "version": 3
   },
   "file_extension": ".py",
   "mimetype": "text/x-python",
   "name": "python",
   "nbconvert_exporter": "python",
   "pygments_lexer": "ipython3",
   "version": "3.9.12"
  }
 },
 "nbformat": 4,
 "nbformat_minor": 5
}
